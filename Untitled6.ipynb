{
  "nbformat": 4,
  "nbformat_minor": 0,
  "metadata": {
    "colab": {
      "provenance": []
    },
    "kernelspec": {
      "name": "python3",
      "display_name": "Python 3"
    },
    "language_info": {
      "name": "python"
    }
  },
  "cells": [
    {
      "cell_type": "code",
      "execution_count": 48,
      "metadata": {
        "colab": {
          "base_uri": "https://localhost:8080/"
        },
        "id": "Kn6GiEzJ3s5H",
        "outputId": "bb632507-da6d-4b1a-c8dc-b3d63ee2e952"
      },
      "outputs": [
        {
          "output_type": "stream",
          "name": "stdout",
          "text": [
            "Colab only includes TensorFlow 2.x; %tensorflow_version has no effect.\n"
          ]
        }
      ],
      "source": [
        "%tensorflow_version 2.x  # this line is not required unless you are in a notebook\n",
        "# TensorFlow and tf.keras\n",
        "import tensorflow as tf\n",
        "from tensorflow import keras\n",
        "\n",
        "# Helper libraries\n",
        "import numpy as np\n",
        "import matplotlib.pyplot as plt\n",
        "import pandas as pd\n",
        "import math as m\n",
        "import seaborn as sns\n",
        "from keras.datasets import imdb"
      ]
    },
    {
      "cell_type": "code",
      "source": [
        "(x_train, y_train), (x_test, y_test)= keras.datasets.imdb.load_data(\n",
        "    path=\"imdb.npz\",\n",
        "    num_words=10000,\n",
        "    skip_top=0,\n",
        "    maxlen=10000,\n",
        "    seed=113,\n",
        "    start_char=1,\n",
        "    oov_char=2,\n",
        "    index_from=3\n",
        ")"
      ],
      "metadata": {
        "colab": {
          "base_uri": "https://localhost:8080/"
        },
        "id": "0w2GddeJ3-jg",
        "outputId": "cd422c53-cb25-4424-f289-ef7c0051529b"
      },
      "execution_count": 2,
      "outputs": [
        {
          "output_type": "stream",
          "name": "stdout",
          "text": [
            "Downloading data from https://storage.googleapis.com/tensorflow/tf-keras-datasets/imdb.npz\n",
            "\u001b[1m17464789/17464789\u001b[0m \u001b[32m━━━━━━━━━━━━━━━━━━━━\u001b[0m\u001b[37m\u001b[0m \u001b[1m0s\u001b[0m 0us/step\n"
          ]
        }
      ]
    },
    {
      "cell_type": "code",
      "source": [
        "y_test.shape"
      ],
      "metadata": {
        "colab": {
          "base_uri": "https://localhost:8080/"
        },
        "id": "bhJrNvKb6LBW",
        "outputId": "ad934d4f-b53e-4a5b-d85c-90ca13e79339"
      },
      "execution_count": 3,
      "outputs": [
        {
          "output_type": "execute_result",
          "data": {
            "text/plain": [
              "(25000,)"
            ]
          },
          "metadata": {},
          "execution_count": 3
        }
      ]
    },
    {
      "cell_type": "code",
      "source": [
        "max([max(sequence) for sequence in x_train])"
      ],
      "metadata": {
        "colab": {
          "base_uri": "https://localhost:8080/"
        },
        "id": "91oLoUnsN4w8",
        "outputId": "baeec845-7d97-4c0e-dae5-018cf8b214c5"
      },
      "execution_count": 4,
      "outputs": [
        {
          "output_type": "execute_result",
          "data": {
            "text/plain": [
              "9999"
            ]
          },
          "metadata": {},
          "execution_count": 4
        }
      ]
    },
    {
      "cell_type": "code",
      "source": [
        "x=np.concatenate((x_train,x_test),axis=0)\n",
        "x.shape\n",
        "y=np.concatenate((y_train,y_test),axis=0)\n",
        "y.shape"
      ],
      "metadata": {
        "colab": {
          "base_uri": "https://localhost:8080/"
        },
        "id": "NkyiR2Um8uhr",
        "outputId": "e073fa90-dce3-4f5f-bbf7-d555864b4981"
      },
      "execution_count": 5,
      "outputs": [
        {
          "output_type": "execute_result",
          "data": {
            "text/plain": [
              "(50000,)"
            ]
          },
          "metadata": {},
          "execution_count": 5
        }
      ]
    },
    {
      "cell_type": "code",
      "source": [
        "x[3,]"
      ],
      "metadata": {
        "colab": {
          "base_uri": "https://localhost:8080/"
        },
        "collapsed": true,
        "id": "0-x2wOddrRyS",
        "outputId": "eeb1feed-9e17-403f-8c2d-41120e836774"
      },
      "execution_count": 6,
      "outputs": [
        {
          "output_type": "execute_result",
          "data": {
            "text/plain": [
              "[1,\n",
              " 4,\n",
              " 2,\n",
              " 2,\n",
              " 33,\n",
              " 2804,\n",
              " 4,\n",
              " 2040,\n",
              " 432,\n",
              " 111,\n",
              " 153,\n",
              " 103,\n",
              " 4,\n",
              " 1494,\n",
              " 13,\n",
              " 70,\n",
              " 131,\n",
              " 67,\n",
              " 11,\n",
              " 61,\n",
              " 2,\n",
              " 744,\n",
              " 35,\n",
              " 3715,\n",
              " 761,\n",
              " 61,\n",
              " 5766,\n",
              " 452,\n",
              " 9214,\n",
              " 4,\n",
              " 985,\n",
              " 7,\n",
              " 2,\n",
              " 59,\n",
              " 166,\n",
              " 4,\n",
              " 105,\n",
              " 216,\n",
              " 1239,\n",
              " 41,\n",
              " 1797,\n",
              " 9,\n",
              " 15,\n",
              " 7,\n",
              " 35,\n",
              " 744,\n",
              " 2413,\n",
              " 31,\n",
              " 8,\n",
              " 4,\n",
              " 687,\n",
              " 23,\n",
              " 4,\n",
              " 2,\n",
              " 7339,\n",
              " 6,\n",
              " 3693,\n",
              " 42,\n",
              " 38,\n",
              " 39,\n",
              " 121,\n",
              " 59,\n",
              " 456,\n",
              " 10,\n",
              " 10,\n",
              " 7,\n",
              " 265,\n",
              " 12,\n",
              " 575,\n",
              " 111,\n",
              " 153,\n",
              " 159,\n",
              " 59,\n",
              " 16,\n",
              " 1447,\n",
              " 21,\n",
              " 25,\n",
              " 586,\n",
              " 482,\n",
              " 39,\n",
              " 4,\n",
              " 96,\n",
              " 59,\n",
              " 716,\n",
              " 12,\n",
              " 4,\n",
              " 172,\n",
              " 65,\n",
              " 9,\n",
              " 579,\n",
              " 11,\n",
              " 6004,\n",
              " 4,\n",
              " 1615,\n",
              " 5,\n",
              " 2,\n",
              " 7,\n",
              " 5168,\n",
              " 17,\n",
              " 13,\n",
              " 7064,\n",
              " 12,\n",
              " 19,\n",
              " 6,\n",
              " 464,\n",
              " 31,\n",
              " 314,\n",
              " 11,\n",
              " 2,\n",
              " 6,\n",
              " 719,\n",
              " 605,\n",
              " 11,\n",
              " 8,\n",
              " 202,\n",
              " 27,\n",
              " 310,\n",
              " 4,\n",
              " 3772,\n",
              " 3501,\n",
              " 8,\n",
              " 2722,\n",
              " 58,\n",
              " 10,\n",
              " 10,\n",
              " 537,\n",
              " 2116,\n",
              " 180,\n",
              " 40,\n",
              " 14,\n",
              " 413,\n",
              " 173,\n",
              " 7,\n",
              " 263,\n",
              " 112,\n",
              " 37,\n",
              " 152,\n",
              " 377,\n",
              " 4,\n",
              " 537,\n",
              " 263,\n",
              " 846,\n",
              " 579,\n",
              " 178,\n",
              " 54,\n",
              " 75,\n",
              " 71,\n",
              " 476,\n",
              " 36,\n",
              " 413,\n",
              " 263,\n",
              " 2504,\n",
              " 182,\n",
              " 5,\n",
              " 17,\n",
              " 75,\n",
              " 2306,\n",
              " 922,\n",
              " 36,\n",
              " 279,\n",
              " 131,\n",
              " 2895,\n",
              " 17,\n",
              " 2867,\n",
              " 42,\n",
              " 17,\n",
              " 35,\n",
              " 921,\n",
              " 2,\n",
              " 192,\n",
              " 5,\n",
              " 1219,\n",
              " 3890,\n",
              " 19,\n",
              " 2,\n",
              " 217,\n",
              " 4122,\n",
              " 1710,\n",
              " 537,\n",
              " 2,\n",
              " 1236,\n",
              " 5,\n",
              " 736,\n",
              " 10,\n",
              " 10,\n",
              " 61,\n",
              " 403,\n",
              " 9,\n",
              " 2,\n",
              " 40,\n",
              " 61,\n",
              " 4494,\n",
              " 5,\n",
              " 27,\n",
              " 4494,\n",
              " 159,\n",
              " 90,\n",
              " 263,\n",
              " 2311,\n",
              " 4319,\n",
              " 309,\n",
              " 8,\n",
              " 178,\n",
              " 5,\n",
              " 82,\n",
              " 4319,\n",
              " 4,\n",
              " 65,\n",
              " 15,\n",
              " 9225,\n",
              " 145,\n",
              " 143,\n",
              " 5122,\n",
              " 12,\n",
              " 7039,\n",
              " 537,\n",
              " 746,\n",
              " 537,\n",
              " 537,\n",
              " 15,\n",
              " 7979,\n",
              " 4,\n",
              " 2,\n",
              " 594,\n",
              " 7,\n",
              " 5168,\n",
              " 94,\n",
              " 9096,\n",
              " 3987,\n",
              " 2,\n",
              " 11,\n",
              " 2,\n",
              " 4,\n",
              " 538,\n",
              " 7,\n",
              " 1795,\n",
              " 246,\n",
              " 2,\n",
              " 9,\n",
              " 2,\n",
              " 11,\n",
              " 635,\n",
              " 14,\n",
              " 9,\n",
              " 51,\n",
              " 408,\n",
              " 12,\n",
              " 94,\n",
              " 318,\n",
              " 1382,\n",
              " 12,\n",
              " 47,\n",
              " 6,\n",
              " 2683,\n",
              " 936,\n",
              " 5,\n",
              " 6307,\n",
              " 2,\n",
              " 19,\n",
              " 49,\n",
              " 7,\n",
              " 4,\n",
              " 1885,\n",
              " 2,\n",
              " 1118,\n",
              " 25,\n",
              " 80,\n",
              " 126,\n",
              " 842,\n",
              " 10,\n",
              " 10,\n",
              " 2,\n",
              " 2,\n",
              " 4726,\n",
              " 27,\n",
              " 4494,\n",
              " 11,\n",
              " 1550,\n",
              " 3633,\n",
              " 159,\n",
              " 27,\n",
              " 341,\n",
              " 29,\n",
              " 2733,\n",
              " 19,\n",
              " 4185,\n",
              " 173,\n",
              " 7,\n",
              " 90,\n",
              " 2,\n",
              " 8,\n",
              " 30,\n",
              " 11,\n",
              " 4,\n",
              " 1784,\n",
              " 86,\n",
              " 1117,\n",
              " 8,\n",
              " 3261,\n",
              " 46,\n",
              " 11,\n",
              " 2,\n",
              " 21,\n",
              " 29,\n",
              " 9,\n",
              " 2841,\n",
              " 23,\n",
              " 4,\n",
              " 1010,\n",
              " 2,\n",
              " 793,\n",
              " 6,\n",
              " 2,\n",
              " 1386,\n",
              " 1830,\n",
              " 10,\n",
              " 10,\n",
              " 246,\n",
              " 50,\n",
              " 9,\n",
              " 6,\n",
              " 2750,\n",
              " 1944,\n",
              " 746,\n",
              " 90,\n",
              " 29,\n",
              " 2,\n",
              " 8,\n",
              " 124,\n",
              " 4,\n",
              " 882,\n",
              " 4,\n",
              " 882,\n",
              " 496,\n",
              " 27,\n",
              " 2,\n",
              " 2213,\n",
              " 537,\n",
              " 121,\n",
              " 127,\n",
              " 1219,\n",
              " 130,\n",
              " 5,\n",
              " 29,\n",
              " 494,\n",
              " 8,\n",
              " 124,\n",
              " 4,\n",
              " 882,\n",
              " 496,\n",
              " 4,\n",
              " 341,\n",
              " 7,\n",
              " 27,\n",
              " 846,\n",
              " 10,\n",
              " 10,\n",
              " 29,\n",
              " 9,\n",
              " 1906,\n",
              " 8,\n",
              " 97,\n",
              " 6,\n",
              " 236,\n",
              " 2,\n",
              " 1311,\n",
              " 8,\n",
              " 4,\n",
              " 2,\n",
              " 7,\n",
              " 31,\n",
              " 7,\n",
              " 2,\n",
              " 91,\n",
              " 2,\n",
              " 3987,\n",
              " 70,\n",
              " 4,\n",
              " 882,\n",
              " 30,\n",
              " 579,\n",
              " 42,\n",
              " 9,\n",
              " 12,\n",
              " 32,\n",
              " 11,\n",
              " 537,\n",
              " 10,\n",
              " 10,\n",
              " 11,\n",
              " 14,\n",
              " 65,\n",
              " 44,\n",
              " 537,\n",
              " 75,\n",
              " 2,\n",
              " 1775,\n",
              " 3353,\n",
              " 2,\n",
              " 1846,\n",
              " 4,\n",
              " 2,\n",
              " 7,\n",
              " 154,\n",
              " 5,\n",
              " 4,\n",
              " 518,\n",
              " 53,\n",
              " 2,\n",
              " 2,\n",
              " 7,\n",
              " 3211,\n",
              " 882,\n",
              " 11,\n",
              " 399,\n",
              " 38,\n",
              " 75,\n",
              " 257,\n",
              " 3807,\n",
              " 19,\n",
              " 2,\n",
              " 17,\n",
              " 29,\n",
              " 456,\n",
              " 4,\n",
              " 65,\n",
              " 7,\n",
              " 27,\n",
              " 205,\n",
              " 113,\n",
              " 10,\n",
              " 10,\n",
              " 2,\n",
              " 4,\n",
              " 2,\n",
              " 2,\n",
              " 9,\n",
              " 242,\n",
              " 4,\n",
              " 91,\n",
              " 1202,\n",
              " 2,\n",
              " 5,\n",
              " 2070,\n",
              " 307,\n",
              " 22,\n",
              " 7,\n",
              " 5168,\n",
              " 126,\n",
              " 93,\n",
              " 40,\n",
              " 2,\n",
              " 13,\n",
              " 188,\n",
              " 1076,\n",
              " 3222,\n",
              " 19,\n",
              " 4,\n",
              " 2,\n",
              " 7,\n",
              " 2348,\n",
              " 537,\n",
              " 23,\n",
              " 53,\n",
              " 537,\n",
              " 21,\n",
              " 82,\n",
              " 40,\n",
              " 2,\n",
              " 13,\n",
              " 2,\n",
              " 14,\n",
              " 280,\n",
              " 13,\n",
              " 219,\n",
              " 4,\n",
              " 2,\n",
              " 431,\n",
              " 758,\n",
              " 859,\n",
              " 4,\n",
              " 953,\n",
              " 1052,\n",
              " 2,\n",
              " 7,\n",
              " 5991,\n",
              " 5,\n",
              " 94,\n",
              " 40,\n",
              " 25,\n",
              " 238,\n",
              " 60,\n",
              " 2,\n",
              " 4,\n",
              " 2,\n",
              " 804,\n",
              " 2,\n",
              " 7,\n",
              " 4,\n",
              " 9941,\n",
              " 132,\n",
              " 8,\n",
              " 67,\n",
              " 6,\n",
              " 22,\n",
              " 15,\n",
              " 9,\n",
              " 283,\n",
              " 8,\n",
              " 5168,\n",
              " 14,\n",
              " 31,\n",
              " 9,\n",
              " 242,\n",
              " 955,\n",
              " 48,\n",
              " 25,\n",
              " 279,\n",
              " 2,\n",
              " 23,\n",
              " 12,\n",
              " 1685,\n",
              " 195,\n",
              " 25,\n",
              " 238,\n",
              " 60,\n",
              " 796,\n",
              " 2,\n",
              " 4,\n",
              " 671,\n",
              " 7,\n",
              " 2804,\n",
              " 5,\n",
              " 4,\n",
              " 559,\n",
              " 154,\n",
              " 888,\n",
              " 7,\n",
              " 726,\n",
              " 50,\n",
              " 26,\n",
              " 49,\n",
              " 7008,\n",
              " 15,\n",
              " 566,\n",
              " 30,\n",
              " 579,\n",
              " 21,\n",
              " 64,\n",
              " 2574]"
            ]
          },
          "metadata": {},
          "execution_count": 6
        }
      ]
    },
    {
      "cell_type": "code",
      "source": [
        "print(np.unique(y))\n",
        "print(len(np.unique(y)))\n",
        "print(np.unique(x))\n",
        "print((len(np.unique(np.hstack(x)))))\n",
        "y.std\n"
      ],
      "metadata": {
        "colab": {
          "base_uri": "https://localhost:8080/"
        },
        "id": "HfjYOWhBr7dY",
        "outputId": "a04c2967-7df5-42e6-ffab-bd0948d712c6"
      },
      "execution_count": 7,
      "outputs": [
        {
          "output_type": "stream",
          "name": "stdout",
          "text": [
            "[0 1]\n",
            "2\n",
            "[list([1, 2, 2, 2, 2, 4, 2, 393, 7, 6, 2, 1830, 39, 998, 2445, 1364, 656, 94, 58, 143, 4, 454, 17, 12, 144, 366, 75, 6050, 39, 2, 21, 5610, 1915, 5, 1398, 83, 2, 7, 1306, 5, 6, 483, 5564, 3411, 44, 4, 394, 2, 7, 2, 10, 10, 2, 7279, 5, 2, 638, 4, 8921, 2, 5096, 4, 330, 5, 2, 4, 529, 14, 9521, 370, 157, 9, 2, 11, 6, 2, 109, 37, 9, 1305, 4, 9824, 2, 27, 292, 33, 4, 8465, 1923, 5, 1200, 27, 223, 8, 605, 2, 95, 2, 174, 5, 3582, 8, 4, 5315, 1946, 7, 27, 430, 351, 10, 10, 6, 2, 154, 255, 2, 23, 41, 658, 5, 6, 185, 430, 1442, 154, 183, 413, 162, 5, 162, 183, 783, 469, 9, 4, 8921, 2, 17, 594, 8559, 17, 4, 479, 7, 438])\n",
            " list([1, 2, 2, 2, 2, 9, 4, 86, 6594, 20, 7, 1300, 2, 6457, 5, 1238, 9, 24, 44, 2, 2, 2, 42, 2, 12, 9, 1004, 6, 55, 338, 1830, 11, 6, 2, 11, 6327, 121, 4, 2, 26, 3276, 2, 2, 2, 5233, 372, 4780, 13, 81, 24, 124, 4, 282, 138, 6457, 6546, 14, 1579, 756, 5, 2776, 8, 276, 2511, 21, 849, 36, 26, 55, 619, 537, 49, 7, 98, 483, 2244, 13, 1276, 40, 4, 1301, 65, 7, 4, 430, 5, 27, 336, 15, 925, 19, 6, 313, 7, 68, 205, 5, 2171, 34, 98, 4, 65, 7, 4, 3000, 430, 15, 2251, 29, 7446, 6, 1374, 4, 65, 7, 4, 132, 15, 5245, 677, 476, 17, 48, 36, 71, 68, 205, 3197, 5, 2847, 5, 4, 65, 7, 4, 185, 255, 5233, 34, 41, 2, 61, 2302, 9, 3020, 10, 10, 425, 3829, 2, 475, 1604, 2, 5438, 2, 2, 475, 4, 96, 7, 4, 113])\n",
            " list([1, 2, 2, 2, 2, 9, 6, 87, 20, 24, 64, 11, 4, 291, 12, 16, 324, 21, 82, 150, 45, 35, 498, 20, 63, 9, 24, 5903, 60, 11, 6161, 1117, 4, 167, 2, 6, 52, 1321, 2703, 5, 1346, 93, 4, 65, 38, 3557, 10, 10, 4, 20, 1791, 72, 7, 4, 303, 785, 162, 2869, 20, 2, 2, 5203, 2, 2, 63, 9, 7, 4, 729, 2989])\n",
            " ...\n",
            " list([1, 9955, 9, 6, 906, 3198, 11, 4, 7627, 201, 7, 2, 2473, 1184, 1955, 2, 4, 108, 71, 3711, 33, 2, 5, 71, 526, 1125, 5, 6885, 34, 49, 7, 4, 350, 676, 39, 2991, 5638, 758, 2, 2, 587, 2, 2, 3447, 1532, 5, 4124, 2, 4, 2, 3774, 2, 2, 4, 544, 18, 2, 5, 4, 537, 5, 2, 2559, 18, 111, 7, 4, 108, 16, 2, 34, 2, 2, 13, 963, 884, 9295, 4, 326, 16, 8, 2833, 1121, 5867, 19, 486, 5, 3983, 2656, 772, 4, 109, 7, 2, 17, 6, 404, 1566, 463, 29, 16, 4, 2, 4, 117, 2, 37, 62, 81, 285, 335, 24, 424, 8, 81, 1793, 8, 3447, 1532, 4, 3167, 69, 8, 30, 2, 34, 2, 8699, 21, 1272, 2, 82, 2, 4, 9053, 35, 1732, 1166, 7, 2204, 3828, 1101, 5, 2, 640, 434, 53, 74, 2253, 8023, 7, 4, 58, 62, 1741, 32, 18, 4, 2798, 52, 7, 265, 10, 10, 17, 4, 425, 62, 7147, 14, 1072, 9, 35, 2, 7, 4, 2, 671, 7, 9955, 4, 956, 9, 35, 1272, 1250, 1955, 2, 4474, 375, 8, 160, 1631, 11, 4, 2, 142, 25, 528, 67, 11, 101, 85, 363, 108, 7, 4, 999, 5, 68, 5717, 2599, 517, 4, 1871, 2660, 75, 7679, 17, 35, 2, 7759, 44, 6, 9153, 9, 2, 95, 3694, 95, 679, 83, 35, 3437, 2532, 2, 15, 2, 4, 1250, 4, 2656, 9, 849, 3983, 4, 1224, 7, 31, 7067, 1631, 9, 2399, 17, 6, 2, 4360, 137, 4, 2, 2491, 7, 160, 9, 5760, 17, 9147, 893, 945, 13, 963, 9179, 7926, 6, 1631, 3234, 27, 1642, 125, 5556, 405, 5, 159, 25, 124, 12, 779, 2, 9, 1549, 11, 175, 458, 2, 2, 33, 15, 2, 1340, 376, 257, 85, 15, 4, 4201, 3026, 47, 77, 2, 2, 1111, 6877, 46, 2543, 4750, 28, 5955, 23, 4, 428, 313, 8815, 5, 4, 860, 26, 11, 2642, 4, 2057, 413, 126, 53, 2427, 5, 7498, 366, 33, 236, 4, 1250, 9, 2, 18, 2, 2, 5, 1955, 2, 47, 77, 2897, 56, 11, 6, 8425, 2768, 10, 10, 14, 9, 6, 545, 1134, 418, 7, 157, 4, 1057, 2, 68, 756, 19, 2210, 5, 6078, 1708, 5, 4, 749, 9, 131, 6, 7513, 31, 11, 1136, 153, 2002, 110, 15, 2, 687, 147, 42, 3792, 70, 5287, 32, 2572, 7, 1358, 9955, 15, 4600, 53, 6143, 74, 126, 1216, 8, 7293, 8424, 88, 4, 2131, 47, 3827, 4, 1955, 2, 7, 263, 58, 26, 502, 8, 3851, 68, 205, 9179, 7926, 2864, 963, 4738, 2, 5, 2, 7124, 9955, 9, 6, 1281, 463, 7, 6, 7627, 4965, 22, 625, 2963, 749, 152, 235, 33, 32, 1967, 11, 192, 12, 203, 30, 53, 2, 74, 126])\n",
            " list([1, 9982, 188, 8636, 8, 990, 5, 15, 1687, 1368, 3590, 10, 10, 11, 2571, 6, 604, 6, 1340, 1974, 15, 4, 325, 9, 120, 5, 26, 5576, 145, 344, 54, 36, 1466, 6, 762, 7, 2, 587, 1368, 3590, 1045, 6, 1168, 2431, 342, 2, 548, 5, 6, 346, 3298, 303, 3590, 5, 49, 2, 232, 3259, 6, 2863, 988, 2428, 142, 42, 85, 10, 10, 605, 8, 4, 984, 6047, 5, 2, 232, 9, 971, 6, 2634, 429, 5522, 2, 240, 1112, 33, 86, 21, 103, 5522, 2, 5589, 8, 4266, 1588, 19, 6, 5215, 240, 918, 8, 8402, 5, 9, 324, 11, 4, 419, 23, 412, 699, 14, 9, 617, 11, 368, 2207, 1589, 17, 6, 1636, 3174, 23, 298, 9572, 63, 832, 3590, 8, 2, 4, 154, 5408, 60, 151, 29, 286, 165, 173, 7, 15, 5408, 8, 895, 19, 11, 661, 8, 2, 2, 5, 1056, 180, 3086, 7, 84, 10, 10, 2, 9, 6, 2, 379, 22, 21, 18, 32, 15, 45, 82, 6, 52, 462, 5, 206, 3015, 99, 14, 9, 31, 7, 148, 102, 121, 2091, 9, 348, 6, 1876, 2, 89, 334, 100, 3590, 1258, 6, 4025, 1811, 11, 4, 419, 39, 160, 1707, 209, 2073, 39, 2, 42, 60, 2244, 6, 2054, 82, 12, 186, 15, 134, 493, 70, 1056, 180, 4634, 7, 1392, 8452, 11, 162, 782, 209, 4, 568, 8981, 10, 10, 225, 958, 7, 503, 20, 3001, 8, 7668, 23, 133, 39, 488, 2, 9589, 116, 11, 4, 2571, 720, 8, 4, 3818, 21, 1097, 1149, 341, 7, 31, 7, 4, 1737, 8, 4, 499, 9270, 5127, 200, 3590, 5, 5522, 2, 5, 903, 24, 859, 4, 2, 2491, 34, 4, 799, 7, 4, 4194, 2121, 112, 296, 23, 699, 11, 938, 754, 839, 6, 2115, 3325, 8, 61, 2, 744, 15, 227, 10, 10, 45, 46, 50, 18, 6, 2, 818, 12, 48, 25, 28, 6, 281, 7, 1285, 67, 89, 111, 211, 25, 70, 1466, 4, 370, 1051, 99])\n",
            " list([1, 9995, 2, 7, 2208, 7335, 3135, 4173, 3783, 509, 1683, 4702, 2, 2, 6, 201, 7, 6415, 687, 2, 2, 7, 6387, 548, 139, 7583, 295, 34, 4485, 5302, 2, 2, 2, 7, 2, 2, 146, 24, 1017, 2282, 133, 21, 4, 1591, 3113, 786, 2, 16, 125, 4, 2, 9790, 2039, 137, 267, 2, 5, 2, 120, 2024, 980, 2, 1248, 5666, 727, 1405, 6879, 1060, 6442, 18, 2, 1461, 2, 1883, 445, 109, 5369, 3696, 33, 236, 786, 5580, 7994, 8, 2, 2, 103, 2, 98, 11, 2, 1461, 24, 66, 351, 1461, 165, 116, 17, 2545, 18, 6717, 8694, 5514, 980, 2545, 165, 734, 18, 2311, 52, 84, 157, 18, 7232, 11, 661, 8, 607, 3531, 223, 1066, 445, 9236, 996, 8, 2898, 4931, 8, 5526, 8316, 7880, 154, 378, 459, 18, 6942, 632, 5, 79, 2024, 18, 68, 4918, 813, 2456, 2, 17, 840, 4807, 3854, 23, 136, 159, 5770, 852, 1698, 632, 7708, 7993, 1003, 1372, 5747, 2, 7, 5840, 5408, 11, 7200, 120, 4682, 7, 2, 3368, 2103, 8, 1140, 2, 880, 1692, 7, 68, 205, 3565, 5903, 21, 3204, 1372, 2, 2, 1098, 125, 128, 2429, 21, 9000, 2, 632, 2, 245, 39, 3526, 5, 9386, 2690, 6, 4951, 7, 2, 496, 90, 103, 316, 47, 348, 56, 2, 483, 2, 2865, 56, 6, 9739, 445, 9236, 2568, 2464, 8, 632, 29, 57, 1207, 1085, 17, 6, 3842, 632, 3055, 8, 516, 5765, 2, 88, 240, 128, 74, 15, 7906, 700, 2143, 109, 166, 642, 2, 5, 6358, 795, 7771, 6474, 2, 11, 1526, 4041, 2, 2, 2, 2, 2, 31, 160, 143, 6, 201, 7, 3404, 5, 85, 1748, 2, 15, 62, 516, 6, 2691, 6945, 132, 2, 4193, 7, 1056, 6756, 4262, 19, 164, 21, 2, 2, 1141, 281, 5, 4, 4461, 7, 5681, 2, 5, 1175, 2, 2628, 7232, 772, 447, 2066, 588, 17, 8508, 18, 5580, 2, 10, 10, 13, 100, 140, 23, 21, 14, 9, 43, 2, 48, 335, 120, 4, 559, 7, 3917, 5, 24, 581, 11, 9484, 3231, 225, 242, 164, 133, 18, 25, 2, 195, 45, 24, 99, 230, 125, 7, 2291, 18, 3783, 102, 38, 2, 32, 207, 398, 48, 25, 191, 79, 195, 7, 4, 512])]\n",
            "9998\n"
          ]
        },
        {
          "output_type": "execute_result",
          "data": {
            "text/plain": [
              "<function ndarray.std>"
            ]
          },
          "metadata": {},
          "execution_count": 7
        }
      ]
    },
    {
      "cell_type": "code",
      "source": [
        "x_train = x[10000:]\n",
        "y_train = y[10000:]\n",
        "x_test = x[:10000]\n",
        "y_test = y[:10000]"
      ],
      "metadata": {
        "id": "UDwUGOs1JUb6"
      },
      "execution_count": 8,
      "outputs": []
    },
    {
      "cell_type": "code",
      "source": [
        "max([max(sequence) for sequence in x_train])"
      ],
      "metadata": {
        "colab": {
          "base_uri": "https://localhost:8080/"
        },
        "id": "zJWpP_1RKgXQ",
        "outputId": "1db30b40-bcc9-4ce7-fba5-678a46c5057a"
      },
      "execution_count": 9,
      "outputs": [
        {
          "output_type": "execute_result",
          "data": {
            "text/plain": [
              "9999"
            ]
          },
          "metadata": {},
          "execution_count": 9
        }
      ]
    },
    {
      "cell_type": "code",
      "source": [
        "word_index = imdb.get_word_index()\n",
        "reverse_word_index = dict(\n",
        "    [(value, key) for (key, value) in word_index.items()])\n",
        "decoded_review = \" \".join(\n",
        "    [reverse_word_index.get(i - 3, \"?\") for i in x_train[0]])\n",
        "print(decoded_review)"
      ],
      "metadata": {
        "colab": {
          "base_uri": "https://localhost:8080/"
        },
        "id": "HwHWOdYkLqdm",
        "outputId": "24e13fa6-19cd-43d3-92c8-177e628383c1"
      },
      "execution_count": 10,
      "outputs": [
        {
          "output_type": "stream",
          "name": "stdout",
          "text": [
            "Downloading data from https://storage.googleapis.com/tensorflow/tf-keras-datasets/imdb_word_index.json\n",
            "\u001b[1m1641221/1641221\u001b[0m \u001b[32m━━━━━━━━━━━━━━━━━━━━\u001b[0m\u001b[37m\u001b[0m \u001b[1m0s\u001b[0m 0us/step\n",
            "? i think this is one of the weakest of the kenneth branagh ? works after such great efforts as much ? about nothing etc i thought this was poor the cast was weaker alicia ? ? ? but my biggest ? was that they messed with the ? work and cut out some of the play to put in the musical dance sequences br br you just don't do shakespeare and then mess with the play sorry but that is just wrong i love some cole porter just like the next person but ? don't mess with the shakespeare skip this and watch ? books if you want to see a brilliant shakespearean adaptation of the ?\n"
          ]
        }
      ]
    },
    {
      "cell_type": "code",
      "source": [
        "from keras.preprocessing.sequence import pad_sequences\n",
        "max_length = 10000  # We want each sequence to be 10,000 long\n",
        "def vectorize_sequences(sequences, dimension=10000):\n",
        "    results = np.zeros((len(sequences), dimension))\n",
        "    for i, sequence in enumerate(sequences):\n",
        "        for j in sequence:\n",
        "            results[i, j] = 1.\n",
        "    return results\n",
        "\n",
        "x_train = vectorize_sequences(x_train)\n",
        "x_test = vectorize_sequences(x_test)\n",
        "x_train = pad_sequences(x_train, maxlen=max_length)\n",
        "x_test = pad_sequences(x_test, maxlen=max_length)"
      ],
      "metadata": {
        "id": "-SrXtsKfyrbi"
      },
      "execution_count": 11,
      "outputs": []
    },
    {
      "cell_type": "code",
      "source": [
        "\n",
        "y_test.shape"
      ],
      "metadata": {
        "colab": {
          "base_uri": "https://localhost:8080/"
        },
        "id": "Vv_IA-TcU0si",
        "outputId": "de2044c1-241f-47dc-fe5c-abf3d542b476"
      },
      "execution_count": 12,
      "outputs": [
        {
          "output_type": "execute_result",
          "data": {
            "text/plain": [
              "(10000,)"
            ]
          },
          "metadata": {},
          "execution_count": 12
        }
      ]
    },
    {
      "cell_type": "code",
      "source": [
        "y_train = np.asarray(y_train).astype(\"float32\")\n",
        "y_test = np.asarray(y_test).astype(\"float32\")"
      ],
      "metadata": {
        "id": "eChtvAiZPDR-"
      },
      "execution_count": 13,
      "outputs": []
    },
    {
      "cell_type": "code",
      "source": [
        "from keras import models\n",
        "from keras import layers\n",
        "\n",
        "model = keras.Sequential([\n",
        "        layers.Dense(32, activation=\"relu\", input_shape=(10000,)),\n",
        "        layers.Dense(16, activation=\"relu\"),\n",
        "        layers.Dense(1, activation=\"sigmoid\")\n",
        "    ])\n"
      ],
      "metadata": {
        "colab": {
          "base_uri": "https://localhost:8080/"
        },
        "id": "AjxwfWNNR9Yf",
        "outputId": "3976d1c9-f506-4607-afdb-813eff1e179a"
      },
      "execution_count": 43,
      "outputs": [
        {
          "output_type": "stream",
          "name": "stderr",
          "text": [
            "/usr/local/lib/python3.10/dist-packages/keras/src/layers/core/dense.py:87: UserWarning: Do not pass an `input_shape`/`input_dim` argument to a layer. When using Sequential models, prefer using an `Input(shape)` object as the first layer in the model instead.\n",
            "  super().__init__(activity_regularizer=activity_regularizer, **kwargs)\n"
          ]
        }
      ]
    },
    {
      "cell_type": "code",
      "source": [
        "model.compile(optimizer=\"rmsprop\",\n",
        "              loss=\"binary_crossentropy\",\n",
        "              metrics=[\"accuracy\"])"
      ],
      "metadata": {
        "id": "StjgZxinUDF1"
      },
      "execution_count": 44,
      "outputs": []
    },
    {
      "cell_type": "code",
      "source": [
        "# @title\n",
        "complete = model.fit(x_train, y_train, epochs=8, batch_size=32)"
      ],
      "metadata": {
        "colab": {
          "base_uri": "https://localhost:8080/"
        },
        "id": "Ey62r-uKX_Dr",
        "outputId": "79051fff-3bae-461e-e43a-6e4e393876db"
      },
      "execution_count": 45,
      "outputs": [
        {
          "output_type": "stream",
          "name": "stdout",
          "text": [
            "Epoch 1/8\n",
            "\u001b[1m1250/1250\u001b[0m \u001b[32m━━━━━━━━━━━━━━━━━━━━\u001b[0m\u001b[37m\u001b[0m \u001b[1m8s\u001b[0m 6ms/step - accuracy: 0.8376 - loss: 0.3731\n",
            "Epoch 2/8\n",
            "\u001b[1m1250/1250\u001b[0m \u001b[32m━━━━━━━━━━━━━━━━━━━━\u001b[0m\u001b[37m\u001b[0m \u001b[1m8s\u001b[0m 6ms/step - accuracy: 0.9194 - loss: 0.2151\n",
            "Epoch 3/8\n",
            "\u001b[1m1250/1250\u001b[0m \u001b[32m━━━━━━━━━━━━━━━━━━━━\u001b[0m\u001b[37m\u001b[0m \u001b[1m8s\u001b[0m 7ms/step - accuracy: 0.9336 - loss: 0.1807\n",
            "Epoch 4/8\n",
            "\u001b[1m1250/1250\u001b[0m \u001b[32m━━━━━━━━━━━━━━━━━━━━\u001b[0m\u001b[37m\u001b[0m \u001b[1m7s\u001b[0m 6ms/step - accuracy: 0.9460 - loss: 0.1505\n",
            "Epoch 5/8\n",
            "\u001b[1m1250/1250\u001b[0m \u001b[32m━━━━━━━━━━━━━━━━━━━━\u001b[0m\u001b[37m\u001b[0m \u001b[1m11s\u001b[0m 6ms/step - accuracy: 0.9559 - loss: 0.1279\n",
            "Epoch 6/8\n",
            "\u001b[1m1250/1250\u001b[0m \u001b[32m━━━━━━━━━━━━━━━━━━━━\u001b[0m\u001b[37m\u001b[0m \u001b[1m11s\u001b[0m 7ms/step - accuracy: 0.9680 - loss: 0.0974\n",
            "Epoch 7/8\n",
            "\u001b[1m1250/1250\u001b[0m \u001b[32m━━━━━━━━━━━━━━━━━━━━\u001b[0m\u001b[37m\u001b[0m \u001b[1m7s\u001b[0m 6ms/step - accuracy: 0.9760 - loss: 0.0753\n",
            "Epoch 8/8\n",
            "\u001b[1m1250/1250\u001b[0m \u001b[32m━━━━━━━━━━━━━━━━━━━━\u001b[0m\u001b[37m\u001b[0m \u001b[1m10s\u001b[0m 5ms/step - accuracy: 0.9819 - loss: 0.0591\n"
          ]
        }
      ]
    },
    {
      "cell_type": "code",
      "source": [
        "test_r , test = model.evaluate(x_test, y_test, verbose=6)\n",
        "print(test)"
      ],
      "metadata": {
        "colab": {
          "base_uri": "https://localhost:8080/"
        },
        "id": "ujm_B7oFY4Bb",
        "outputId": "af10abb6-6504-4127-cb77-85cf038169f8"
      },
      "execution_count": 32,
      "outputs": [
        {
          "output_type": "stream",
          "name": "stdout",
          "text": [
            "0.8639000058174133\n"
          ]
        }
      ]
    },
    {
      "cell_type": "code",
      "source": [
        "epoches = range(1, len(complete.history[\"accuracy\"]) + 1)\n",
        "plt.plot(epoches ,complete.history[\"accuracy\"])"
      ],
      "metadata": {
        "colab": {
          "base_uri": "https://localhost:8080/",
          "height": 447
        },
        "id": "0CFD707_bc87",
        "outputId": "fce8924c-afe6-49ec-f7c3-d5e412565810"
      },
      "execution_count": 31,
      "outputs": [
        {
          "output_type": "execute_result",
          "data": {
            "text/plain": [
              "[<matplotlib.lines.Line2D at 0x7f879bb16170>]"
            ]
          },
          "metadata": {},
          "execution_count": 31
        },
        {
          "output_type": "display_data",
          "data": {
            "text/plain": [
              "<Figure size 640x480 with 1 Axes>"
            ],
            "image/png": "[encoded data removed]"
          },
          "metadata": {}
        }
      ]
    },
    {
      "cell_type": "code",
      "source": [
        "plt.plot(epoches ,complete.history[\"loss\"])"
      ],
      "metadata": {
        "colab": {
          "base_uri": "https://localhost:8080/",
          "height": 447
        },
        "id": "faPTDVjkc-mv",
        "outputId": "30a67751-8571-4828-ddb5-107febae7a8e"
      },
      "execution_count": 33,
      "outputs": [
        {
          "output_type": "execute_result",
          "data": {
            "text/plain": [
              "[<matplotlib.lines.Line2D at 0x7f879bbdd3f0>]"
            ]
          },
          "metadata": {},
          "execution_count": 33
        },
        {
          "output_type": "display_data",
          "data": {
            "text/plain": [
              "<Figure size 640x480 with 1 Axes>"
            ],
            "image/png": "[encoded data removed]"
          },
          "metadata": {}
        }
      ]
    },
    {
      "cell_type": "code",
      "source": [
        "from tensorflow.keras.preprocessing.text import Tokenizer\n",
        "\n",
        "# Sample text data\n",
        "texts = [\n",
        "    \"I love programming in Python.\",\n",
        "    \"Artificial intelligence is fascinating.\",\n",
        "    \"Natural language processing is a challenging field.\"\n",
        "]\n",
        "\n",
        "# Initialize the tokenizer\n",
        "tokenizer = Tokenizer(num_words=10000)  # You can adjust num_words as needed\n",
        "\n",
        "# Fit the tokenizer on the text data\n",
        "tokenizer.fit_on_texts(texts)\n",
        "\n",
        "# Convert the text data to sequences of integers\n",
        "sequences = tokenizer.texts_to_sequences(texts)\n",
        "\n",
        "# Print the word index (mapping of words to integers)\n",
        "word_index = tokenizer.word_index\n",
        "print(\"Word Index:\\n\", word_index)\n",
        "\n",
        "# Print the sequences\n",
        "print(\"\\nSequences:\")\n",
        "for seq in sequences:\n",
        "    print(seq)\n"
      ],
      "metadata": {
        "colab": {
          "base_uri": "https://localhost:8080/"
        },
        "id": "EReai7ZKkWAo",
        "outputId": "f647b8d8-f6c0-4965-8eb4-c9b7a95e27ca"
      },
      "execution_count": 67,
      "outputs": [
        {
          "output_type": "stream",
          "name": "stdout",
          "text": [
            "Word Index:\n",
            " {'is': 1, 'i': 2, 'love': 3, 'programming': 4, 'in': 5, 'python': 6, 'artificial': 7, 'intelligence': 8, 'fascinating': 9, 'natural': 10, 'language': 11, 'processing': 12, 'a': 13, 'challenging': 14, 'field': 15}\n",
            "\n",
            "Sequences:\n",
            "[2, 3, 4, 5, 6]\n",
            "[7, 8, 1, 9]\n",
            "[10, 11, 12, 1, 13, 14, 15]\n"
          ]
        }
      ]
    },
    {
      "cell_type": "code",
      "source": [
        "sequences = vectorize_sequences(sequences)\n",
        "sequences = pad_sequences(sequences, maxlen=max_length)\n",
        "prediction = model.predict(sequences)\n",
        "print(prediction[2])"
      ],
      "metadata": {
        "colab": {
          "base_uri": "https://localhost:8080/"
        },
        "id": "bTAVvQ7WgV6o",
        "outputId": "90caf4c5-6b50-47f5-a57f-1b972d0c5bef"
      },
      "execution_count": 76,
      "outputs": [
        {
          "output_type": "stream",
          "name": "stdout",
          "text": [
            "\u001b[1m1/1\u001b[0m \u001b[32m━━━━━━━━━━━━━━━━━━━━\u001b[0m\u001b[37m\u001b[0m \u001b[1m0s\u001b[0m 20ms/step\n",
            "[0.6582169]\n"
          ]
        }
      ]
    },
    {
      "cell_type": "code",
      "source": [
        "def texts_to_sequences(texts, word_index):\n",
        "    sequences = []\n",
        "\n",
        "    for text in texts:\n",
        "        # Convert the text to lowercase\n",
        "        text = text.lower()\n",
        "\n",
        "        # Split the text into words\n",
        "        words = text.split()\n",
        "\n",
        "        # Map each word to its corresponding integer in word_index\n",
        "        sequence = [word_index.get(word, 0) for word in words]\n",
        "\n",
        "        # Add the sequence to the list of sequences\n",
        "        sequences.append(sequence)\n",
        "\n",
        "    return sequences\n"
      ],
      "metadata": {
        "id": "MT86L-gLpz2w"
      },
      "execution_count": 74,
      "outputs": []
    },
    {
      "cell_type": "code",
      "source": [
        "\n",
        "\n",
        "# List of texts (e.g., reviews or sentences)\n",
        "texts = [\n",
        "    \"The movie is good\",\n",
        "    \"The movie is bad\",\n",
        "    \"Good and bad from it right  bad sad romance\"\n",
        "]\n",
        "\n",
        "# Convert the list of texts into sequences of integers\n",
        "sequences = texts_to_sequences(texts, word_index)\n",
        "\n",
        "print(sequences)\n"
      ],
      "metadata": {
        "colab": {
          "base_uri": "https://localhost:8080/"
        },
        "id": "4w-qCZQBp4tN",
        "outputId": "de694ffc-b58b-473c-ad63-b25c7f2a8d9d"
      },
      "execution_count": 73,
      "outputs": [
        {
          "output_type": "stream",
          "name": "stdout",
          "text": [
            "[[0, 0, 1, 0], [0, 0, 1, 0], [0, 0, 0, 0, 0, 0, 0, 0, 0]]\n"
          ]
        }
      ]
    }
  ]
}